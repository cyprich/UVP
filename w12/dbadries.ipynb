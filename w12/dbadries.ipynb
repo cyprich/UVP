{
 "cells": [
  {
   "cell_type": "code",
   "execution_count": 1,
   "id": "e6c79f62-af5b-44e5-849e-48e79912e810",
   "metadata": {
    "ExecuteTime": {
     "end_time": "2024-12-12T09:17:44.172882Z",
     "start_time": "2024-12-12T09:17:44.171153Z"
    }
   },
   "outputs": [],
   "source": [
    "import sqlite3.dbapi2 as sqlite"
   ]
  },
  {
   "cell_type": "code",
   "execution_count": 2,
   "id": "61455d1c-3cc6-4db2-a814-637fd565dd54",
   "metadata": {
    "ExecuteTime": {
     "end_time": "2024-12-12T09:17:44.234007Z",
     "start_time": "2024-12-12T09:17:44.229944Z"
    }
   },
   "outputs": [],
   "source": [
    "conn = sqlite.connect('adresy.sqlite')\n",
    "curs = conn.cursor()"
   ]
  },
  {
   "cell_type": "code",
   "execution_count": 3,
   "id": "e4781410-2c01-4aa0-a86e-e85a3c8d701a",
   "metadata": {
    "ExecuteTime": {
     "end_time": "2024-12-12T09:17:44.401987Z",
     "start_time": "2024-12-12T09:17:44.318495Z"
    }
   },
   "outputs": [
    {
     "data": {
      "text/plain": [
       "<sqlite3.Cursor at 0x776c9942e440>"
      ]
     },
     "execution_count": 3,
     "metadata": {},
     "output_type": "execute_result"
    }
   ],
   "source": [
    "curs.execute(\"CREATE TABLE IF NOT EXISTS obce(id_obce INTEGER PRIMARY KEY,nazov_obce TEXT);\")\n",
    "curs.execute(\"CREATE TABLE IF NOT EXISTS ulice(id_ulice INTEGER PRIMARY KEY,nazov_ulice TEXT,id_obce INTEGER,foreign key(id_obce) references obce(id_obce));\")\n",
    "curs.execute(\"CREATE TABLE IF NOT EXISTS cisla(id_domu INTEGER PRIMARY KEY,cislo_domu TEXT,latitude INTEGER, longtitude INTEGER, id_ulice INTEGER,foreign key(id_ulice) references obce(id_ulice));\")"
   ]
  },
  {
   "cell_type": "code",
   "execution_count": 4,
   "id": "89841d70-c3e8-4afd-a46b-42eab69bf441",
   "metadata": {},
   "outputs": [],
   "source": [
    "with open('obce.csv') as f:\n",
    "    for riadok in f:\n",
    "        oid,omeno=riadok[:-1].split(',')\n",
    "        try:\n",
    "            curs.execute(\"INSERT INTO obce VALUES (?,?)\",(int(oid),omeno))\n",
    "        except sqlite.IntegrityError:\n",
    "            pass"
   ]
  },
  {
   "cell_type": "code",
   "execution_count": 5,
   "id": "b8e3f545-159c-43c3-ac99-57fc4620b466",
   "metadata": {},
   "outputs": [],
   "source": [
    "with open('ulice.csv') as f:\n",
    "    for riadok in f:\n",
    "        uid,umeno,oid=riadok[:-1].split(',')\n",
    "        try:\n",
    "            curs.execute(\"INSERT INTO ulice VALUES (?,?,?)\",(int(uid),umeno,int(oid)))\n",
    "        except sqlite.IntegrityError:\n",
    "            pass"
   ]
  },
  {
   "cell_type": "code",
   "execution_count": 6,
   "id": "f4969e9d-33b9-45f7-9171-96f7bff723d8",
   "metadata": {},
   "outputs": [],
   "source": [
    "with open('cisla.csv') as f:\n",
    "    for riadok in f:\n",
    "        did,cd,lat,lon,uid=riadok[:-1].split(',')\n",
    "        try:\n",
    "            curs.execute(\"INSERT INTO cisla VALUES (?,?,?,?,?)\",(int(did),cd,lat,lon,int(uid)))\n",
    "        except sqlite.IntegrityError:\n",
    "            pass"
   ]
  },
  {
   "cell_type": "code",
   "execution_count": null,
   "id": "dd5c58ec-77c8-49e2-9628-cf9b63e5ab0c",
   "metadata": {},
   "outputs": [],
   "source": [
    "#zoznam ulic v Ziline\n",
    "curs.execute(\"SELECT u.nazov_ulice FROM ulice u,obce o WHERE o.nazov_obce = 'Žilina' AND u.id_obce = o.id_obce\")\n",
    "u = curs.fetchall()\n",
    "u[:10]"
   ]
  },
  {
   "cell_type": "code",
   "execution_count": null,
   "id": "34eb5da6-df8d-4d3a-83ba-8110a0167391",
   "metadata": {},
   "outputs": [],
   "source": [
    "#Pocet vsetkych ulic v Bratislave\n",
    "curs.execute(\"SELECT COUNT(u.nazov_ulice) FROM ulice u,obce o WHERE o.nazov_obce LIKE '%Bratislava%' AND u.id_obce = o.id_obce\")\n",
    "curs.fetchall()"
   ]
  },
  {
   "cell_type": "code",
   "execution_count": null,
   "id": "9f67fefb-8e6a-4696-ba22-62e324049511",
   "metadata": {},
   "outputs": [],
   "source": [
    "#Pocet vsetkych cisel na ulici Univerzitna v Ziline\n",
    "curs.execute(\"SELECT c.cislo_domu,latitude,longtitude FROM cisla c,ulice u,obce o WHERE  o.nazov_obce LIKE '%Žilina%'\\\n",
    "AND o.id_obce = u.id_obce AND u.nazov_ulice LIKE '%Univerzitná%' AND u.id_ulice = c.id_ulice GROUP BY cislo_domu\")\n",
    "curs.fetchall()"
   ]
  },
  {
   "cell_type": "code",
   "execution_count": 7,
   "id": "037b4960-d7cf-4b54-9265-cd3e00fecf73",
   "metadata": {},
   "outputs": [],
   "source": [
    "def lokalizacia_ulice(ulica,mesto):\n",
    "    curs.execute(\"SELECT c.cislo_domu,latitude,longtitude FROM cisla c,ulice u,obce o WHERE  o.nazov_obce LIKE '%\"+mesto+\"%'\\\n",
    "    AND o.id_obce = u.id_obce AND u.nazov_ulice LIKE '%\"+ulica+\"%' AND u.id_ulice = c.id_ulice GROUP BY cislo_domu\")\n",
    "    return curs.fetchall()"
   ]
  },
  {
   "cell_type": "code",
   "execution_count": null,
   "id": "e2c7e7c4-90c9-435b-a963-4b61e6f860e5",
   "metadata": {},
   "outputs": [],
   "source": [
    "zoznam = lokalizacia_ulice('Univerzitná','Žilina')"
   ]
  },
  {
   "cell_type": "code",
   "execution_count": null,
   "id": "12db5992-2666-408f-9807-34cd26e4bbab",
   "metadata": {},
   "outputs": [],
   "source": [
    "print(zoznam)"
   ]
  },
  {
   "cell_type": "code",
   "execution_count": null,
   "id": "03d36294-bf97-404f-86f3-f40d601f98ab",
   "metadata": {},
   "outputs": [],
   "source": [
    "print(lokalizacia_ulice('Farského','Bratislava'))"
   ]
  },
  {
   "cell_type": "code",
   "execution_count": 8,
   "id": "3f69065e-0cff-47aa-a358-d462be3fa680",
   "metadata": {},
   "outputs": [],
   "source": [
    "def lokalizacia_adresy(ulica,cislo,mesto):\n",
    "    curs.execute(\"SELECT c.cislo_domu,latitude,longtitude FROM cisla c,ulice u,obce o WHERE  o.nazov_obce LIKE '%\"+mesto+\"%'\\\n",
    "    AND o.id_obce = u.id_obce AND u.nazov_ulice LIKE '%\"+ulica+\"%' AND u.id_ulice = c.id_ulice AND c.cislo_domu LIKE '%\"+cislo+\"%'\")\n",
    "    return curs.fetchall()"
   ]
  },
  {
   "cell_type": "code",
   "execution_count": null,
   "id": "8e0688b0-e226-4e07-9f84-63a90d3cc61c",
   "metadata": {},
   "outputs": [],
   "source": [
    "print(lokalizacia_adresy('Farského','12','Bratislava'))"
   ]
  },
  {
   "cell_type": "code",
   "execution_count": 10,
   "id": "4b935972-63be-44b1-8247-bdbc35d6806b",
   "metadata": {},
   "outputs": [],
   "source": [
    "r = lokalizacia_adresy('Univerzitná','1','Žilina')\n",
    "r = lokalizacia_ulice('Hlavná','Prešov')"
   ]
  },
  {
   "cell_type": "code",
   "execution_count": 12,
   "id": "759ed785-d26b-414d-b846-b85132613612",
   "metadata": {},
   "outputs": [
    {
     "ename": "SyntaxError",
     "evalue": "invalid syntax (3327333369.py, line 9)",
     "output_type": "error",
     "traceback": [
      "\u001b[0;36m  Cell \u001b[0;32mIn[12], line 9\u001b[0;36m\u001b[0m\n\u001b[0;31m    map.?\u001b[0m\n\u001b[0m        ^\u001b[0m\n\u001b[0;31mSyntaxError\u001b[0m\u001b[0;31m:\u001b[0m invalid syntax\n"
     ]
    }
   ],
   "source": [
    "import folium\n",
    "from numpy import mean\n",
    "C,Lat,Lon = zip(*r)\n",
    "sur  = zip(Lat,Lon)\n",
    "Lats,Lons=mean(Lat),mean(Lon)\n",
    "map = folium.Map(location=(Lats,Lons),zoom_start=17)\n",
    "for p,c in zip(sur,C):\n",
    "    map.add_child(folium.CircleMarker(p,radius=6,color='red',fill_color = 'red',fill_opacity=0.3,popup=\"%s %s\" %('Univerzitná',c)))\n",
    "map.sa\n",
    "map"
   ]
  },
  {
   "cell_type": "code",
   "execution_count": null,
   "id": "15c83dc7-938b-4276-bb91-b0fd3511a6cf",
   "metadata": {},
   "outputs": [],
   "source": []
  }
 ],
 "metadata": {
  "kernelspec": {
   "display_name": "Python 3 (ipykernel)",
   "language": "python",
   "name": "python3"
  },
  "language_info": {
   "codemirror_mode": {
    "name": "ipython",
    "version": 3
   },
   "file_extension": ".py",
   "mimetype": "text/x-python",
   "name": "python",
   "nbconvert_exporter": "python",
   "pygments_lexer": "ipython3",
   "version": "3.12.7"
  }
 },
 "nbformat": 4,
 "nbformat_minor": 5
}
