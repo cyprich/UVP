{
 "cells": [
  {
   "cell_type": "code",
   "execution_count": null,
   "id": "43858eee-3d08-4ff5-91ad-684789d96b57",
   "metadata": {},
   "outputs": [],
   "source": [
    "# vetvenie\n",
    "if s<5:\n",
    "    fsf\n",
    "elif f<d:\n",
    "    fsf\n",
    "else:\n",
    "    sfsdf\n",
    "#cyklus\n",
    "while I<5:\n",
    "    DFS\n",
    "else:\n",
    "    I=0\n",
    "for i in r:\n",
    "#funkcie\n",
    "#vstavane,moduly,definovane,lambda"
   ]
  },
  {
   "cell_type": "code",
   "execution_count": 7,
   "id": "5fe3bc30-59fe-40d1-9749-83d9139155fe",
   "metadata": {},
   "outputs": [
    {
     "name": "stdout",
     "output_type": "stream",
     "text": [
      "988\n"
     ]
    }
   ],
   "source": [
    "i = 999\n",
    "while i % 19 != 0:\n",
    "    i -= 1\n",
    "else:\n",
    "    print(i)"
   ]
  },
  {
   "cell_type": "code",
   "execution_count": 14,
   "id": "d387ab1e-a38b-43c1-8a13-9e1151de5db2",
   "metadata": {},
   "outputs": [
    {
     "data": {
      "text/plain": [
       "0.5403023058681398"
      ]
     },
     "execution_count": 14,
     "metadata": {},
     "output_type": "execute_result"
    }
   ],
   "source": [
    "import math\n",
    "math.cos(1)"
   ]
  },
  {
   "cell_type": "code",
   "execution_count": 23,
   "id": "c96e27b0-5a9d-408f-b070-b80fcb4e0ce9",
   "metadata": {},
   "outputs": [],
   "source": [
    "def faktorial(n):\n",
    "    if n < 0:\n",
    "        print(\"nedefinovane\")\n",
    "    elif (n<=1):\n",
    "        return 1\n",
    "    else :\n",
    "        return n * faktorial(n-1)"
   ]
  },
  {
   "cell_type": "code",
   "execution_count": 46,
   "id": "21285bf6-28b0-4815-a674-8ce9d73dd96b",
   "metadata": {},
   "outputs": [
    {
     "name": "stdout",
     "output_type": "stream",
     "text": [
      "CPU times: user 5 µs, sys: 0 ns, total: 5 µs\n",
      "Wall time: 11.4 µs\n"
     ]
    }
   ],
   "source": [
    "#faktorial(6),faktorial(0),faktorial(1),faktorial(-5)\n",
    "faktorial(100)\n",
    "%time"
   ]
  },
  {
   "cell_type": "code",
   "execution_count": 33,
   "id": "f02feef3-d56c-4d09-a43d-dcb3beecbabf",
   "metadata": {},
   "outputs": [
    {
     "data": {
      "text/plain": [
       "648"
      ]
     },
     "execution_count": 33,
     "metadata": {},
     "output_type": "execute_result"
    }
   ],
   "source": [
    "sum((int(i) for i in str(faktorial(100))))"
   ]
  },
  {
   "cell_type": "code",
   "execution_count": 7,
   "id": "ce311192-57b5-4d1e-a94d-718a1255d751",
   "metadata": {},
   "outputs": [
    {
     "name": "stdout",
     "output_type": "stream",
     "text": [
      "CPU times: user 6 µs, sys: 0 ns, total: 6 µs\n",
      "Wall time: 10.7 µs\n"
     ]
    }
   ],
   "source": [
    "#lambda funkcie\n",
    "sucet = lambda x,y: x+y\n",
    "nasob = lambda x,y: x*y\n",
    "#reduce reduce(sucet,[i for i in range(1,6)])\n",
    "from functools import reduce\n",
    "def lfakt(n):\n",
    "    return reduce(nasob,[i for i in range(1,n)])\n",
    "\n",
    "\n",
    "lfakt(100)\n",
    "%time"
   ]
  },
  {
   "cell_type": "code",
   "execution_count": 10,
   "id": "bd26a946-0cef-41ef-8a47-ec85d452e16e",
   "metadata": {},
   "outputs": [
    {
     "name": "stdout",
     "output_type": "stream",
     "text": [
      "CPU times: user 5 µs, sys: 0 ns, total: 5 µs\n",
      "Wall time: 10.3 µs\n"
     ]
    }
   ],
   "source": [
    "lfakt(100)\n",
    "%time"
   ]
  },
  {
   "cell_type": "code",
   "execution_count": 32,
   "id": "83685b1c-2e0b-4759-a49c-7a76386db8d3",
   "metadata": {},
   "outputs": [
    {
     "data": {
      "text/plain": [
       "(None, 1, 1, 89)"
      ]
     },
     "execution_count": 32,
     "metadata": {},
     "output_type": "execute_result"
    }
   ],
   "source": [
    "#fibbonaci\n",
    "def fib(n):\n",
    "    i=0\n",
    "    res=0\n",
    "    prev = 0\n",
    "    if n<0:\n",
    "        return None\n",
    "    elif n == 0:\n",
    "        return 0\n",
    "    while n>0:\n",
    "        if i==0 or i == 1:\n",
    "            res =1\n",
    "            i +=1\n",
    "            prev = 1\n",
    "            n -=1 \n",
    "        else:\n",
    "            help = res\n",
    "            res = res + prev\n",
    "            prev = help\n",
    "            n -= 1\n",
    "            i += 1\n",
    "    return res\n",
    "fib(-1),fib(0),fib(2),fib(11)    \n"
   ]
  },
  {
   "cell_type": "code",
   "execution_count": 36,
   "id": "8ee9fbb6-f80e-4444-b056-85ccf55a6326",
   "metadata": {},
   "outputs": [
    {
     "data": {
      "text/plain": [
       "89"
      ]
     },
     "execution_count": 36,
     "metadata": {},
     "output_type": "execute_result"
    }
   ],
   "source": [
    "def rfib(n):\n",
    "    if n <= 0:\n",
    "        return 0\n",
    "    elif n == 1 or n == 2:\n",
    "        return 1\n",
    "    else:\n",
    "        return rfib(n-2) + rfib(n-1)\n",
    "rfib(-1),rfib(0),rfib(2),rfib(11) "
   ]
  },
  {
   "cell_type": "code",
   "execution_count": 39,
   "id": "88b4d93b-f3af-4b2a-9e8a-7f433d4f27c1",
   "metadata": {},
   "outputs": [
    {
     "name": "stdout",
     "output_type": "stream",
     "text": [
      "CPU times: user 15 µs, sys: 0 ns, total: 15 µs\n",
      "Wall time: 20 µs\n"
     ]
    },
    {
     "data": {
      "text/plain": [
       "102334155"
      ]
     },
     "execution_count": 39,
     "metadata": {},
     "output_type": "execute_result"
    }
   ],
   "source": [
    "%time fib(40)"
   ]
  },
  {
   "cell_type": "code",
   "execution_count": 40,
   "id": "7b1a173b-81a0-4e61-9145-9526c0f02ac2",
   "metadata": {},
   "outputs": [
    {
     "name": "stdout",
     "output_type": "stream",
     "text": [
      "CPU times: user 23.3 s, sys: 76 ms, total: 23.3 s\n",
      "Wall time: 24.8 s\n"
     ]
    },
    {
     "data": {
      "text/plain": [
       "102334155"
      ]
     },
     "execution_count": 40,
     "metadata": {},
     "output_type": "execute_result"
    }
   ],
   "source": [
    "%time rfib(40)"
   ]
  },
  {
   "cell_type": "code",
   "execution_count": 55,
   "id": "f10b0231-dafb-490d-a1d1-8bf81269896e",
   "metadata": {},
   "outputs": [
    {
     "name": "stdout",
     "output_type": "stream",
     "text": [
      "CPU times: user 16 µs, sys: 0 ns, total: 16 µs\n",
      "Wall time: 22.9 µs\n"
     ]
    },
    {
     "data": {
      "text/plain": [
       "89"
      ]
     },
     "execution_count": 55,
     "metadata": {},
     "output_type": "execute_result"
    }
   ],
   "source": [
    "#memorizacia\n",
    "F = {1:1,2:1}\n",
    "def mfib(n):\n",
    "    if n < 1:\n",
    "        return None\n",
    "    if n not in F:\n",
    "        F[n] = mfib(n-1) + mfib(n-2)\n",
    "    return F[n]\n",
    "%time mfib(11)"
   ]
  },
  {
   "cell_type": "code",
   "execution_count": 53,
   "id": "a67ad346-6786-48ec-aa10-f873bb2bd46d",
   "metadata": {},
   "outputs": [
    {
     "name": "stdout",
     "output_type": "stream",
     "text": [
      "CPU times: user 27 µs, sys: 0 ns, total: 27 µs\n",
      "Wall time: 33.4 µs\n"
     ]
    },
    {
     "data": {
      "text/plain": [
       "102334155"
      ]
     },
     "execution_count": 53,
     "metadata": {},
     "output_type": "execute_result"
    }
   ],
   "source": [
    "%time mfib(40)"
   ]
  },
  {
   "cell_type": "code",
   "execution_count": 66,
   "id": "5cba803c-c942-482b-aab5-4befe21b2d12",
   "metadata": {},
   "outputs": [
    {
     "name": "stdout",
     "output_type": "stream",
     "text": [
      "CPU times: user 338 µs, sys: 1 µs, total: 339 µs\n",
      "Wall time: 346 µs\n"
     ]
    },
    {
     "data": {
      "text/plain": [
       "137846528820"
      ]
     },
     "execution_count": 66,
     "metadata": {},
     "output_type": "execute_result"
    }
   ],
   "source": [
    "#kombinacne cislo\n",
    "K = {(1,1):1}\n",
    "def komb(n,k):\n",
    "    if k < 0 or k > n:\n",
    "        return None\n",
    "    if k == 0 or k == n:\n",
    "        return 1\n",
    "    if (n,k) not in K:\n",
    "        K[n,k] = komb(n-1,k-1)+komb(n-1,k) \n",
    "    return K[n,k]\n",
    "%time komb(40,20)    "
   ]
  },
  {
   "cell_type": "code",
   "execution_count": 70,
   "id": "83f84110-68ff-4e4a-8f68-8d7fbc541eb2",
   "metadata": {},
   "outputs": [
    {
     "data": {
      "text/plain": [
       "137846528820"
      ]
     },
     "execution_count": 70,
     "metadata": {},
     "output_type": "execute_result"
    }
   ],
   "source": [
    "komb(40,20)"
   ]
  },
  {
   "cell_type": "code",
   "execution_count": 102,
   "id": "59f2c0cb-f58a-49dc-bdfc-9e2ac5c29f5e",
   "metadata": {},
   "outputs": [],
   "source": [
    "def evenFib():\n",
    "    i = 2\n",
    "    while mfib(i) < pow(10,999):\n",
    "        i+=1\n",
    "    #j = 1\n",
    "    #sum = 0\n",
    "    #while j < i:\n",
    "    #    if F[j]%2==0:\n",
    "    #       sum += F[j]\n",
    "    #    j += 1\n",
    "    #return sum\n",
    "    return i"
   ]
  },
  {
   "cell_type": "code",
   "execution_count": 104,
   "id": "d64a9ac5-8419-4467-95b0-4eb8e6b6807d",
   "metadata": {},
   "outputs": [
    {
     "data": {
      "text/plain": [
       "4782"
      ]
     },
     "execution_count": 104,
     "metadata": {},
     "output_type": "execute_result"
    }
   ],
   "source": [
    "evenFib()"
   ]
  },
  {
   "cell_type": "code",
   "execution_count": 1,
   "id": "8af0bcbb-601f-4e1a-8671-bc0e73f551fb",
   "metadata": {},
   "outputs": [
    {
     "data": {
      "text/plain": [
       "146"
      ]
     },
     "execution_count": 1,
     "metadata": {},
     "output_type": "execute_result"
    }
   ],
   "source": [
    "Collatz = {1:1}\n",
    "def CollatzFun(n):\n",
    "    prev = n\n",
    "    i=1\n",
    "    \n",
    "    if n not in Collatz:\n",
    "        while n != 1:\n",
    "            if n%2==0:\n",
    "                n/=2\n",
    "                i+=1\n",
    "            else:\n",
    "                n=3*n+1\n",
    "                i+=1\n",
    "        Collatz[prev] = i\n",
    "    return Collatz[prev]\n",
    "CollatzFun(1299)"
   ]
  },
  {
   "cell_type": "code",
   "execution_count": null,
   "id": "4d43eb7b-1e88-4d55-b47c-63cbbefdb1e7",
   "metadata": {},
   "outputs": [],
   "source": []
  }
 ],
 "metadata": {
  "kernelspec": {
   "display_name": "Python 3 (ipykernel)",
   "language": "python",
   "name": "python3"
  },
  "language_info": {
   "codemirror_mode": {
    "name": "ipython",
    "version": 3
   },
   "file_extension": ".py",
   "mimetype": "text/x-python",
   "name": "python",
   "nbconvert_exporter": "python",
   "pygments_lexer": "ipython3",
   "version": "3.11.6"
  }
 },
 "nbformat": 4,
 "nbformat_minor": 5
}
