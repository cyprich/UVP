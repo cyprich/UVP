{
 "cells": [
  {
   "cell_type": "code",
   "execution_count": 1,
   "id": "8db059a7-c4d2-4c49-a7ff-69f2fe455260",
   "metadata": {},
   "outputs": [],
   "source": [
    "#modul numpy\n",
    "import numpy as np"
   ]
  },
  {
   "cell_type": "code",
   "execution_count": 2,
   "id": "fa9f5bcc-4c47-4446-81e8-f244feeb54a2",
   "metadata": {},
   "outputs": [],
   "source": [
    "# n rozmerne pole\n",
    "u=np.array([1,0,-1])"
   ]
  },
  {
   "cell_type": "code",
   "execution_count": 3,
   "id": "e63e5b5e-397a-489d-8b8a-310c2d923691",
   "metadata": {},
   "outputs": [
    {
     "data": {
      "text/plain": [
       "numpy.ndarray"
      ]
     },
     "execution_count": 3,
     "metadata": {},
     "output_type": "execute_result"
    }
   ],
   "source": [
    "type(u)"
   ]
  },
  {
   "cell_type": "code",
   "execution_count": 4,
   "id": "19810f02-a038-4201-b059-c1f1af1e73f0",
   "metadata": {},
   "outputs": [
    {
     "data": {
      "text/plain": [
       "array([ 1,  0, -1])"
      ]
     },
     "execution_count": 4,
     "metadata": {},
     "output_type": "execute_result"
    }
   ],
   "source": [
    "u"
   ]
  },
  {
   "cell_type": "code",
   "execution_count": 5,
   "id": "535c2dc7-9b1e-4684-a8d7-1a424e04b51a",
   "metadata": {},
   "outputs": [],
   "source": [
    "v=np.array([2,1,0],dtype = 'float')"
   ]
  },
  {
   "cell_type": "code",
   "execution_count": 6,
   "id": "c4791e35-f8b7-45fa-8283-3dd0a0a0306e",
   "metadata": {},
   "outputs": [
    {
     "data": {
      "text/plain": [
       "array([ 2.,  0., -0.])"
      ]
     },
     "execution_count": 6,
     "metadata": {},
     "output_type": "execute_result"
    }
   ],
   "source": [
    "u*v"
   ]
  },
  {
   "cell_type": "code",
   "execution_count": 7,
   "id": "f6024d2e-1278-47a2-b7a4-ea9f01624943",
   "metadata": {},
   "outputs": [
    {
     "data": {
      "text/plain": [
       "2.0"
      ]
     },
     "execution_count": 7,
     "metadata": {},
     "output_type": "execute_result"
    }
   ],
   "source": [
    "u@v"
   ]
  },
  {
   "cell_type": "code",
   "execution_count": 95,
   "id": "d797ceeb-88ba-4319-9aac-2c0c5c95b891",
   "metadata": {},
   "outputs": [],
   "source": [
    "m = np.array([[2,1,0],[1,2,3]],dtype = 'float')"
   ]
  },
  {
   "cell_type": "code",
   "execution_count": 11,
   "id": "e8b07679-e946-42c0-9cda-57417f74f1ab",
   "metadata": {},
   "outputs": [
    {
     "data": {
      "text/plain": [
       "array([[ 5.,  4.],\n",
       "       [ 4., 14.]])"
      ]
     },
     "execution_count": 11,
     "metadata": {},
     "output_type": "execute_result"
    }
   ],
   "source": [
    "m@m.transpose()"
   ]
  },
  {
   "cell_type": "code",
   "execution_count": 13,
   "id": "fc81aab5-7e1e-48c3-8d30-3b57c918c767",
   "metadata": {},
   "outputs": [
    {
     "data": {
      "text/plain": [
       "(2, 3)"
      ]
     },
     "execution_count": 13,
     "metadata": {},
     "output_type": "execute_result"
    }
   ],
   "source": [
    "m.shape"
   ]
  },
  {
   "cell_type": "code",
   "execution_count": 14,
   "id": "bfe573f3-3a64-43cb-b163-faa5525f1474",
   "metadata": {},
   "outputs": [
    {
     "data": {
      "text/plain": [
       "6"
      ]
     },
     "execution_count": 14,
     "metadata": {},
     "output_type": "execute_result"
    }
   ],
   "source": [
    "m.size"
   ]
  },
  {
   "cell_type": "code",
   "execution_count": 19,
   "id": "b96fd471-d673-4f82-99fd-89efa90226b8",
   "metadata": {},
   "outputs": [
    {
     "data": {
      "text/plain": [
       "array([[ True,  True,  True,  True,  True],\n",
       "       [ True,  True,  True,  True,  True],\n",
       "       [ True,  True,  True,  True,  True],\n",
       "       [ True,  True,  True,  True,  True],\n",
       "       [ True,  True,  True,  True,  True]])"
      ]
     },
     "execution_count": 19,
     "metadata": {},
     "output_type": "execute_result"
    }
   ],
   "source": [
    "#generatory pola(ones,zeros,eye,arange,linspace)\n",
    "np.ones((5,5),dtype = 'bool')"
   ]
  },
  {
   "cell_type": "code",
   "execution_count": 20,
   "id": "7fa1aea9-1c67-46cd-a279-1ee15f917fff",
   "metadata": {},
   "outputs": [
    {
     "data": {
      "text/plain": [
       "array([0., 0., 0., 0., 0.])"
      ]
     },
     "execution_count": 20,
     "metadata": {},
     "output_type": "execute_result"
    }
   ],
   "source": [
    "np.zeros(5)"
   ]
  },
  {
   "cell_type": "code",
   "execution_count": 24,
   "id": "4f2e1d89-6b5c-47ac-bae7-eb2f617c8788",
   "metadata": {},
   "outputs": [
    {
     "data": {
      "text/plain": [
       "array([[0, 0, 1, 0, 0, 0, 0, 0],\n",
       "       [0, 0, 0, 1, 0, 0, 0, 0],\n",
       "       [0, 0, 0, 0, 1, 0, 0, 0],\n",
       "       [0, 0, 0, 0, 0, 1, 0, 0],\n",
       "       [0, 0, 0, 0, 0, 0, 1, 0],\n",
       "       [0, 0, 0, 0, 0, 0, 0, 1],\n",
       "       [0, 0, 0, 0, 0, 0, 0, 0],\n",
       "       [0, 0, 0, 0, 0, 0, 0, 0]])"
      ]
     },
     "execution_count": 24,
     "metadata": {},
     "output_type": "execute_result"
    }
   ],
   "source": [
    "np.eye(8,k=2,dtype='int')"
   ]
  },
  {
   "cell_type": "code",
   "execution_count": 34,
   "id": "080ada58-6812-4c08-834c-f86827c8d54e",
   "metadata": {},
   "outputs": [
    {
     "data": {
      "text/plain": [
       "array([ 1,  2,  3,  4,  5,  6,  7,  8,  9, 10, 11, 12, 13, 14, 15, 16, 17,\n",
       "       18, 19, 20, 21, 22, 23, 24])"
      ]
     },
     "execution_count": 34,
     "metadata": {},
     "output_type": "execute_result"
    }
   ],
   "source": [
    "np.arange(1,25)"
   ]
  },
  {
   "cell_type": "code",
   "execution_count": 35,
   "id": "9c79c4d1-4a54-4efc-8c89-d14b74c6c60c",
   "metadata": {},
   "outputs": [
    {
     "data": {
      "text/plain": [
       "array([[ 1,  2,  3,  4,  5,  6],\n",
       "       [ 7,  8,  9, 10, 11, 12],\n",
       "       [13, 14, 15, 16, 17, 18],\n",
       "       [19, 20, 21, 22, 23, 24]])"
      ]
     },
     "execution_count": 35,
     "metadata": {},
     "output_type": "execute_result"
    }
   ],
   "source": [
    "np.reshape(np.arange(1,25),(4,6))"
   ]
  },
  {
   "cell_type": "code",
   "execution_count": 37,
   "id": "2bf39396-ffef-4d76-80d6-83602ec07aea",
   "metadata": {},
   "outputs": [
    {
     "data": {
      "text/plain": [
       "array([1.        , 1.08163265, 1.16326531, 1.24489796, 1.32653061,\n",
       "       1.40816327, 1.48979592, 1.57142857, 1.65306122, 1.73469388,\n",
       "       1.81632653, 1.89795918, 1.97959184, 2.06122449, 2.14285714,\n",
       "       2.2244898 , 2.30612245, 2.3877551 , 2.46938776, 2.55102041,\n",
       "       2.63265306, 2.71428571, 2.79591837, 2.87755102, 2.95918367,\n",
       "       3.04081633, 3.12244898, 3.20408163, 3.28571429, 3.36734694,\n",
       "       3.44897959, 3.53061224, 3.6122449 , 3.69387755, 3.7755102 ,\n",
       "       3.85714286, 3.93877551, 4.02040816, 4.10204082, 4.18367347,\n",
       "       4.26530612, 4.34693878, 4.42857143, 4.51020408, 4.59183673,\n",
       "       4.67346939, 4.75510204, 4.83673469, 4.91836735, 5.        ])"
      ]
     },
     "execution_count": 37,
     "metadata": {},
     "output_type": "execute_result"
    }
   ],
   "source": [
    "np.linspace(1,5)"
   ]
  },
  {
   "cell_type": "code",
   "execution_count": 42,
   "id": "ab0f3e06-977c-4d58-94fa-9a1c540eeb97",
   "metadata": {},
   "outputs": [
    {
     "data": {
      "text/plain": [
       "array([0.21227274, 0.51993597, 0.68091115, 0.41706977, 0.24022542])"
      ]
     },
     "execution_count": 42,
     "metadata": {},
     "output_type": "execute_result"
    }
   ],
   "source": [
    "#random numpy.random\n",
    "import numpy.random as npr\n",
    "npr.rand(5)"
   ]
  },
  {
   "cell_type": "code",
   "execution_count": 50,
   "id": "0aeae4ed-ed5f-40ea-9676-3456f78c4124",
   "metadata": {},
   "outputs": [
    {
     "data": {
      "text/plain": [
       "3"
      ]
     },
     "execution_count": 50,
     "metadata": {},
     "output_type": "execute_result"
    }
   ],
   "source": [
    "npr.randint(1,6+1)"
   ]
  },
  {
   "cell_type": "code",
   "execution_count": 65,
   "id": "6d5c9a95-d6ef-4c62-a037-a79af201cb64",
   "metadata": {},
   "outputs": [
    {
     "ename": "ValueError",
     "evalue": "'a' and 'p' must have same size",
     "output_type": "error",
     "traceback": [
      "\u001B[0;31m---------------------------------------------------------------------------\u001B[0m",
      "\u001B[0;31mValueError\u001B[0m                                Traceback (most recent call last)",
      "Cell \u001B[0;32mIn[65], line 1\u001B[0m\n\u001B[0;32m----> 1\u001B[0m \u001B[43mnpr\u001B[49m\u001B[38;5;241;43m.\u001B[39;49m\u001B[43mchoice\u001B[49m\u001B[43m(\u001B[49m\u001B[43mnpr\u001B[49m\u001B[38;5;241;43m.\u001B[39;49m\u001B[43mrandint\u001B[49m\u001B[43m(\u001B[49m\u001B[38;5;241;43m1\u001B[39;49m\u001B[43m,\u001B[49m\u001B[38;5;241;43m7\u001B[39;49m\u001B[43m)\u001B[49m\u001B[43m,\u001B[49m\u001B[43msize\u001B[49m\u001B[38;5;241;43m=\u001B[39;49m\u001B[38;5;241;43m10\u001B[39;49m\u001B[43m,\u001B[49m\u001B[43mp\u001B[49m\u001B[38;5;241;43m=\u001B[39;49m\u001B[43m(\u001B[49m\u001B[38;5;241;43m0.01\u001B[39;49m\u001B[43m,\u001B[49m\u001B[38;5;241;43m0.01\u001B[39;49m\u001B[43m,\u001B[49m\u001B[38;5;241;43m0.01\u001B[39;49m\u001B[43m,\u001B[49m\u001B[38;5;241;43m0.01\u001B[39;49m\u001B[43m,\u001B[49m\u001B[38;5;241;43m0.01\u001B[39;49m\u001B[43m,\u001B[49m\u001B[38;5;241;43m0.95\u001B[39;49m\u001B[43m)\u001B[49m\u001B[43m)\u001B[49m\n",
      "File \u001B[0;32mnumpy/random/mtrand.pyx:968\u001B[0m, in \u001B[0;36mnumpy.random.mtrand.RandomState.choice\u001B[0;34m()\u001B[0m\n",
      "\u001B[0;31mValueError\u001B[0m: 'a' and 'p' must have same size"
     ]
    }
   ],
   "source": [
    "npr.choice(npr.randint(1,7),size=10,p=(0.01,0.01,0.01,0.01,0.01,0.95))"
   ]
  },
  {
   "cell_type": "code",
   "execution_count": 66,
   "id": "4617551f-ac8c-46b6-aabc-01fcc6582a4f",
   "metadata": {},
   "outputs": [
    {
     "name": "stdout",
     "output_type": "stream",
     "text": [
      "[1 2 3 4 5 6]\n",
      "[1 3 6 2 5 4]\n"
     ]
    }
   ],
   "source": [
    "a = np.arange(1,7)\n",
    "print(a)\n",
    "npr.shuffle(a)\n",
    "print(a)"
   ]
  },
  {
   "cell_type": "code",
   "execution_count": 70,
   "id": "6de06d58-0f3e-4f68-8f5a-d0f37e134c24",
   "metadata": {},
   "outputs": [],
   "source": [
    "#nacitanie pola zo suboru /loadtxt\n",
    "p13=np.loadtxt('E13.txt',dtype = 'float')"
   ]
  },
  {
   "cell_type": "code",
   "execution_count": 71,
   "id": "cb0adb95-fe4c-4caa-8275-458d2c662edf",
   "metadata": {},
   "outputs": [
    {
     "data": {
      "text/plain": [
       "7.432498619952474e+49"
      ]
     },
     "execution_count": 71,
     "metadata": {},
     "output_type": "execute_result"
    }
   ],
   "source": [
    "p13[2]"
   ]
  },
  {
   "cell_type": "code",
   "execution_count": 72,
   "id": "39126177-4f13-4c05-8559-4f78c7216da6",
   "metadata": {},
   "outputs": [
    {
     "data": {
      "text/plain": [
       "5.537376230390877e+51"
      ]
     },
     "execution_count": 72,
     "metadata": {},
     "output_type": "execute_result"
    }
   ],
   "source": [
    "sum(p13)"
   ]
  },
  {
   "cell_type": "code",
   "execution_count": 75,
   "id": "b44cb925-1fd8-43e7-85e1-a1ab43c495f4",
   "metadata": {},
   "outputs": [],
   "source": [
    "np.savetxt('vysledok.txt',p13,fmt='%i')"
   ]
  },
  {
   "cell_type": "code",
   "execution_count": 77,
   "id": "08ebb322-0ebf-4ab9-aa55-d639c068891d",
   "metadata": {},
   "outputs": [],
   "source": [
    "m=npr.rand(1000,1000)"
   ]
  },
  {
   "cell_type": "code",
   "execution_count": 78,
   "id": "14123d29-f43c-498e-bb3e-91787cc70066",
   "metadata": {},
   "outputs": [
    {
     "data": {
      "text/plain": [
       "array([[0.98297124, 0.31761606, 0.30132677, ..., 0.30463151, 0.55539554,\n",
       "        0.3070955 ],\n",
       "       [0.92170945, 0.23296462, 0.94680109, ..., 0.33893312, 0.52491345,\n",
       "        0.85260272],\n",
       "       [0.91592163, 0.01678358, 0.32209593, ..., 0.77887942, 0.11202023,\n",
       "        0.16970768],\n",
       "       ...,\n",
       "       [0.6776704 , 0.05138393, 0.3886305 , ..., 0.61005223, 0.07542409,\n",
       "        0.96507701],\n",
       "       [0.57285742, 0.72604128, 0.7415143 , ..., 0.32214226, 0.54031688,\n",
       "        0.9071095 ],\n",
       "       [0.79211331, 0.58114106, 0.65237248, ..., 0.021561  , 0.06367317,\n",
       "        0.13867241]])"
      ]
     },
     "execution_count": 78,
     "metadata": {},
     "output_type": "execute_result"
    }
   ],
   "source": [
    "m"
   ]
  },
  {
   "cell_type": "code",
   "execution_count": 79,
   "id": "f86d1c68-995d-4c6a-8895-61bd9738e0b5",
   "metadata": {},
   "outputs": [
    {
     "data": {
      "text/plain": [
       "1000000"
      ]
     },
     "execution_count": 79,
     "metadata": {},
     "output_type": "execute_result"
    }
   ],
   "source": [
    "m.size"
   ]
  },
  {
   "cell_type": "code",
   "execution_count": 80,
   "id": "066cdb9f-4fd5-4b1b-9623-20fd31d334a9",
   "metadata": {},
   "outputs": [],
   "source": [
    "np.savetxt('M1000.txt',m)"
   ]
  },
  {
   "cell_type": "code",
   "execution_count": 82,
   "id": "9207906d-6454-4646-945a-3bd5b4b9634d",
   "metadata": {},
   "outputs": [],
   "source": [
    "np.save('M1000',m)"
   ]
  },
  {
   "cell_type": "code",
   "id": "65021102-5022-4c6c-99ae-2d598113b701",
   "metadata": {
    "jupyter": {
     "is_executing": true
    }
   },
   "source": [
    "ls"
   ],
   "outputs": [],
   "execution_count": null
  },
  {
   "cell_type": "code",
   "id": "12d8ebd0-f5ad-4fcc-9cc1-3e41f3562ff3",
   "metadata": {
    "jupyter": {
     "is_executing": true
    }
   },
   "source": [
    "ls -l"
   ],
   "outputs": [],
   "execution_count": null
  },
  {
   "cell_type": "code",
   "execution_count": 85,
   "id": "48421a7e-9fba-48f3-b9a1-136aaf7f051d",
   "metadata": {},
   "outputs": [
    {
     "name": "stdout",
     "output_type": "stream",
     "text": [
      "CPU times: user 0 ns, sys: 9.99 ms, total: 9.99 ms\n",
      "Wall time: 10.6 ms\n",
      "CPU times: user 512 ms, sys: 14.9 ms, total: 527 ms\n",
      "Wall time: 548 ms\n"
     ]
    }
   ],
   "source": [
    "%time b = np.load('M1000.npy')\n",
    "%time b = np.loadtxt('M1000.txt')"
   ]
  },
  {
   "cell_type": "code",
   "execution_count": 86,
   "id": "7e60f968-8d79-4dbd-8f83-cccffbbb1fc3",
   "metadata": {},
   "outputs": [
    {
     "data": {
      "text/plain": [
       "[0.1, 1.1, 2.1, 3.1, 4.1, 5.1, 6.1, 7.1, 8.1, 9.1]"
      ]
     },
     "execution_count": 86,
     "metadata": {},
     "output_type": "execute_result"
    }
   ],
   "source": [
    "t = [i/10 for i in range(1,100,10)]\n",
    "t"
   ]
  },
  {
   "cell_type": "code",
   "execution_count": 87,
   "id": "6eba648a-c9b3-442c-b366-f8f0e6439b75",
   "metadata": {},
   "outputs": [],
   "source": [
    "from math import sin"
   ]
  },
  {
   "cell_type": "code",
   "execution_count": 92,
   "id": "7700fdb3-f801-42e3-b900-b6065acf32a5",
   "metadata": {},
   "outputs": [
    {
     "data": {
      "text/plain": [
       "array([0.1, 1.1, 2.1, 3.1, 4.1, 5.1, 6.1, 7.1, 8.1, 9.1])"
      ]
     },
     "execution_count": 92,
     "metadata": {},
     "output_type": "execute_result"
    }
   ],
   "source": [
    "t=np.arange(1,100,10)/10\n",
    "t"
   ]
  },
  {
   "cell_type": "code",
   "execution_count": 93,
   "id": "3ccc32a9-a94d-429e-92bc-eb03ece46e45",
   "metadata": {},
   "outputs": [
    {
     "data": {
      "text/plain": [
       "array([ 0.09983342,  0.89120736,  0.86320937,  0.04158066, -0.81827711,\n",
       "       -0.92581468, -0.1821625 ,  0.72896904,  0.96988981,  0.31909836])"
      ]
     },
     "execution_count": 93,
     "metadata": {},
     "output_type": "execute_result"
    }
   ],
   "source": [
    "np.sin(t)"
   ]
  },
  {
   "cell_type": "code",
   "execution_count": 96,
   "id": "72c5c78d-e8c0-4189-a7eb-c8a7696fd388",
   "metadata": {},
   "outputs": [
    {
     "data": {
      "text/plain": [
       "array([2., 1.])"
      ]
     },
     "execution_count": 96,
     "metadata": {},
     "output_type": "execute_result"
    }
   ],
   "source": [
    "m[:,0]"
   ]
  },
  {
   "cell_type": "code",
   "execution_count": 97,
   "id": "ce78fd06-9f55-4f23-96b0-d3710f87f10a",
   "metadata": {},
   "outputs": [
    {
     "data": {
      "text/plain": [
       "array([[False, False, False],\n",
       "       [False, False, False]])"
      ]
     },
     "execution_count": 97,
     "metadata": {},
     "output_type": "execute_result"
    }
   ],
   "source": [
    "#maskovanie\n",
    "m>3"
   ]
  },
  {
   "cell_type": "code",
   "execution_count": 100,
   "id": "2e8e6e60-145b-4ad0-a2e1-3d85f6c4872d",
   "metadata": {},
   "outputs": [
    {
     "data": {
      "text/plain": [
       "array([[False, False, False],\n",
       "       [False, False, False]])"
      ]
     },
     "execution_count": 100,
     "metadata": {},
     "output_type": "execute_result"
    }
   ],
   "source": [
    "m>2"
   ]
  },
  {
   "cell_type": "code",
   "execution_count": 99,
   "id": "bd0b4f0b-3c3f-46a9-8d42-7bdd6c64a398",
   "metadata": {},
   "outputs": [],
   "source": [
    "m[m>2]=0"
   ]
  },
  {
   "cell_type": "markdown",
   "id": "4eb497ec-defe-454f-9b84-57a26aecea2d",
   "metadata": {},
   "source": [
    "#polynomy \n",
    "$p_1 = x^5-3x^3+4x-11$\n",
    "$p_2 = x^2-3x+2$"
   ]
  },
  {
   "cell_type": "code",
   "execution_count": 108,
   "id": "15177cff-8615-4b37-9e9e-6f8285bb0708",
   "metadata": {},
   "outputs": [
    {
     "name": "stdout",
     "output_type": "stream",
     "text": [
      "[  1   0  -3   0   4 -11]\n",
      "[ 1 -3  2]\n"
     ]
    }
   ],
   "source": [
    "p1 = np.array([1,0,-3,0,4,-11])\n",
    "p2 = np.array([1,-3,2])\n",
    "print(p1)\n",
    "print(p2)"
   ]
  },
  {
   "cell_type": "code",
   "execution_count": 110,
   "id": "9bfefb72-bb70-4480-87d6-a97e5a3af5c2",
   "metadata": {},
   "outputs": [
    {
     "data": {
      "text/plain": [
       "72"
      ]
     },
     "execution_count": 110,
     "metadata": {},
     "output_type": "execute_result"
    }
   ],
   "source": [
    "np.polyval(p2,10)"
   ]
  },
  {
   "cell_type": "code",
   "execution_count": 111,
   "id": "d75572b3-2b72-478b-bbdf-6b991e4b3b5c",
   "metadata": {},
   "outputs": [
    {
     "data": {
      "text/plain": [
       "array([ 1,  0, -3,  1,  1, -9])"
      ]
     },
     "execution_count": 111,
     "metadata": {},
     "output_type": "execute_result"
    }
   ],
   "source": [
    "np.polyadd(p1,p2)"
   ]
  },
  {
   "cell_type": "code",
   "execution_count": 112,
   "id": "cee31532-56cf-4ff9-8a4e-4aef91678892",
   "metadata": {},
   "outputs": [
    {
     "data": {
      "text/plain": [
       "(array([ 1., -1.]), array([0.]))"
      ]
     },
     "execution_count": 112,
     "metadata": {},
     "output_type": "execute_result"
    }
   ],
   "source": [
    "np.polydiv(p2,np.array([1,-2]))"
   ]
  },
  {
   "cell_type": "code",
   "execution_count": 113,
   "id": "2ba82bd6-1f54-40bc-8b9c-a65b52a8f1b9",
   "metadata": {},
   "outputs": [
    {
     "data": {
      "text/plain": [
       "(array([1., 3., 4., 6.]), array([ 14., -23.]))"
      ]
     },
     "execution_count": 113,
     "metadata": {},
     "output_type": "execute_result"
    }
   ],
   "source": [
    "np.polydiv(p1,p2)"
   ]
  },
  {
   "cell_type": "markdown",
   "id": "459ab40b-35f2-4761-9e34-025f0ffc682a",
   "metadata": {},
   "source": [
    "$x^3+3x^2+4x+6+\\frac{14x-23}{x^2-3x+2}$"
   ]
  },
  {
   "cell_type": "code",
   "execution_count": 114,
   "id": "e965c0cc-5f81-4269-9af5-f05448262ab3",
   "metadata": {},
   "outputs": [
    {
     "data": {
      "text/plain": [
       "array([ 5,  0, -9,  0,  4])"
      ]
     },
     "execution_count": 114,
     "metadata": {},
     "output_type": "execute_result"
    }
   ],
   "source": [
    "np.polyder(p1)"
   ]
  },
  {
   "cell_type": "code",
   "execution_count": 115,
   "id": "9b426374-f891-4a4c-99ca-dfbc3cd1ae8d",
   "metadata": {},
   "outputs": [],
   "source": [
    "import numpy.linalg as la"
   ]
  },
  {
   "cell_type": "code",
   "execution_count": 125,
   "id": "f347701b-bf0c-4071-bb59-9f5ed116f909",
   "metadata": {},
   "outputs": [],
   "source": [
    "a = np.array([[1,1,1],[1,2,4],[2,-3,-1]])\n",
    "b = np.array([4,12,4])\n",
    "x = la.solve(a,b)"
   ]
  },
  {
   "cell_type": "code",
   "execution_count": 128,
   "id": "2612517e-f58b-411d-92ae-e6b345570881",
   "metadata": {},
   "outputs": [
    {
     "data": {
      "text/plain": [
       "array([[False],\n",
       "       [ True],\n",
       "       [False]])"
      ]
     },
     "execution_count": 128,
     "metadata": {},
     "output_type": "execute_result"
    }
   ],
   "source": [
    "a@x==b"
   ]
  },
  {
   "cell_type": "code",
   "execution_count": 129,
   "id": "33c85b05-49b7-48bc-8a58-a0177716f75a",
   "metadata": {},
   "outputs": [
    {
     "data": {
      "text/plain": [
       "array([[-8.8817842e-16],\n",
       "       [ 0.0000000e+00],\n",
       "       [-4.4408921e-16]])"
      ]
     },
     "execution_count": 129,
     "metadata": {},
     "output_type": "execute_result"
    }
   ],
   "source": [
    "a@x-b"
   ]
  }
 ],
 "metadata": {
  "kernelspec": {
   "display_name": "Python 3 (ipykernel)",
   "language": "python",
   "name": "python3"
  },
  "language_info": {
   "codemirror_mode": {
    "name": "ipython",
    "version": 3
   },
   "file_extension": ".py",
   "mimetype": "text/x-python",
   "name": "python",
   "nbconvert_exporter": "python",
   "pygments_lexer": "ipython3",
   "version": "3.11.6"
  }
 },
 "nbformat": 4,
 "nbformat_minor": 5
}
