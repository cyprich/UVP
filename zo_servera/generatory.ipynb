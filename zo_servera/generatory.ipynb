{
 "cells": [
  {
   "cell_type": "code",
   "execution_count": 5,
   "id": "6be86e55-04b9-4c41-99d5-6ac45df1d554",
   "metadata": {},
   "outputs": [
    {
     "data": {
      "text/plain": [
       "25164150"
      ]
     },
     "execution_count": 5,
     "metadata": {},
     "output_type": "execute_result"
    }
   ],
   "source": [
    "sum(i for i in range(101))**2 - sum(i**2 for i in range(101))"
   ]
  },
  {
   "cell_type": "code",
   "execution_count": 19,
   "id": "e4ffdfac-7b92-4c7b-a874-a0d0cbd21e03",
   "metadata": {},
   "outputs": [
    {
     "data": {
      "text/plain": [
       "1366"
      ]
     },
     "execution_count": 19,
     "metadata": {},
     "output_type": "execute_result"
    }
   ],
   "source": [
    "sum((int(i) for i in str(2**1000)))"
   ]
  },
  {
   "cell_type": "code",
   "execution_count": 36,
   "id": "deec1e7a-9833-4268-ad23-5e802d167d03",
   "metadata": {},
   "outputs": [
    {
     "name": "stdout",
     "output_type": "stream",
     "text": [
      "[(200, 375, 425)]\n"
     ]
    }
   ],
   "source": [
    "list = [(a,b,1000-a-b) for a in range(1,1000) for b in range(a+1,1000) if a<b<1000-a-b and (a)**2+(b)**2==(1000-a-b)**2]\n",
    "print(list)"
   ]
  },
  {
   "cell_type": "code",
   "execution_count": 39,
   "id": "9ba2a241-cbbb-47aa-b1a6-85e7c20bf706",
   "metadata": {},
   "outputs": [
    {
     "data": {
      "text/plain": [
       "{'Jozef': 5, 'Eva': 3, 'Adam': 4, 'Frantisek': 9, 'Peter': 5}"
      ]
     },
     "execution_count": 39,
     "metadata": {},
     "output_type": "execute_result"
    }
   ],
   "source": [
    "zoznam = [\"Jozef\",\"Eva\",\"Adam\",\"Frantisek\",\"Peter\"]\n",
    "{meno:len(meno) for meno in zoznam}"
   ]
  },
  {
   "cell_type": "code",
   "execution_count": null,
   "id": "21957d3f-8d93-49d8-87f9-423914ed0b0a",
   "metadata": {},
   "outputs": [],
   "source": []
  }
 ],
 "metadata": {
  "kernelspec": {
   "display_name": "Python 3 (ipykernel)",
   "language": "python",
   "name": "python3"
  },
  "language_info": {
   "codemirror_mode": {
    "name": "ipython",
    "version": 3
   },
   "file_extension": ".py",
   "mimetype": "text/x-python",
   "name": "python",
   "nbconvert_exporter": "python",
   "pygments_lexer": "ipython3",
   "version": "3.11.6"
  }
 },
 "nbformat": 4,
 "nbformat_minor": 5
}
