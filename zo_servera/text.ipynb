{
 "cells": [
  {
   "cell_type": "code",
   "execution_count": 3,
   "id": "46614a46-7de6-47b8-86d5-52a6b7242192",
   "metadata": {},
   "outputs": [],
   "source": [
    "#\n",
    "s=open('pg215.txt')"
   ]
  },
  {
   "cell_type": "code",
   "execution_count": 5,
   "id": "b1e45899-29a6-4fc6-b9e2-f7748042a3ac",
   "metadata": {},
   "outputs": [
    {
     "data": {
      "text/plain": [
       "_io.TextIOWrapper"
      ]
     },
     "execution_count": 5,
     "metadata": {},
     "output_type": "execute_result"
    }
   ],
   "source": [
    "type(s)"
   ]
  },
  {
   "cell_type": "code",
   "execution_count": 5,
   "id": "b4703349-e40c-4773-bf7e-7337050968f7",
   "metadata": {},
   "outputs": [],
   "source": [
    "a = s.read()"
   ]
  },
  {
   "cell_type": "code",
   "execution_count": 8,
   "id": "06956a7c-f194-496a-a24e-3c818324d048",
   "metadata": {},
   "outputs": [
    {
     "data": {
      "text/plain": [
       "4138"
      ]
     },
     "execution_count": 8,
     "metadata": {},
     "output_type": "execute_result"
    }
   ],
   "source": [
    "\n",
    "a.find('father')"
   ]
  },
  {
   "cell_type": "code",
   "execution_count": 10,
   "id": "1a6873ec-4d60-458a-8b48-d257944daa1d",
   "metadata": {},
   "outputs": [
    {
     "data": {
      "text/plain": [
       "'d.\\n\\nHis father'"
      ]
     },
     "execution_count": 10,
     "metadata": {},
     "output_type": "execute_result"
    }
   ],
   "source": [
    "a[4130:4144]"
   ]
  },
  {
   "cell_type": "code",
   "execution_count": 6,
   "id": "0eedc9dc-0662-4e5f-b08c-0ac73cbd7e6d",
   "metadata": {},
   "outputs": [
    {
     "data": {
      "text/plain": [
       "11837"
      ]
     },
     "execution_count": 6,
     "metadata": {},
     "output_type": "execute_result"
    }
   ],
   "source": [
    "a.lower()\n",
    "a.count('a')"
   ]
  },
  {
   "cell_type": "code",
   "execution_count": 54,
   "id": "c1985f96-3397-4253-8a6f-f7a55476aafb",
   "metadata": {},
   "outputs": [
    {
     "data": {
      "text/plain": [
       "[('e', 19091),\n",
       " ('t', 14121),\n",
       " ('a', 12127),\n",
       " ('n', 10938),\n",
       " ('o', 10782),\n",
       " ('h', 10348),\n",
       " ('i', 9723),\n",
       " ('r', 8991),\n",
       " ('s', 8984),\n",
       " ('d', 7899),\n",
       " ('l', 6017),\n",
       " ('u', 4264),\n",
       " ('c', 3976),\n",
       " ('w', 3969),\n",
       " ('g', 3731),\n",
       " ('f', 3605),\n",
       " ('m', 3283),\n",
       " ('p', 2708),\n",
       " ('b', 2575),\n",
       " ('y', 2454),\n",
       " ('k', 1777),\n",
       " ('v', 1191),\n",
       " ('j', 254),\n",
       " ('x', 174),\n",
       " ('z', 173),\n",
       " ('q', 105)]"
      ]
     },
     "execution_count": 54,
     "metadata": {},
     "output_type": "execute_result"
    }
   ],
   "source": [
    "from string import ascii_lowercase as pismena\n",
    "a = a.lower()\n",
    "dictionary = {pismeno:a.count(pismeno) for pismeno in pismena}\n",
    "sorted(dictionary.items(), key = lambda x:x[1], reverse = True)"
   ]
  },
  {
   "cell_type": "code",
   "execution_count": 95,
   "id": "71a279be-de6c-4a50-b9af-db67902b1752",
   "metadata": {},
   "outputs": [],
   "source": [
    "#euler 8\n",
    "with open('T8.txt') as subor:\n",
    "    cislo = subor.read().replace('\\n','')\n",
    "rop = 4\n",
    "list = [cislo[i:i+13] for i in range(len(cislo)-12)]\n",
    "beznuly = [i for i in list if '0' not in i]"
   ]
  },
  {
   "cell_type": "code",
   "execution_count": 96,
   "id": "f903c7df-487c-4fd9-b28e-d977b668d422",
   "metadata": {},
   "outputs": [
    {
     "data": {
      "text/plain": [
       "5832"
      ]
     },
     "execution_count": 96,
     "metadata": {},
     "output_type": "execute_result"
    }
   ],
   "source": [
    "from functools import reduce\n",
    "reduce(lambda x,y:x*y,[int(i)for i in'9989'])"
   ]
  },
  {
   "cell_type": "code",
   "execution_count": 97,
   "id": "12b6a207-bff2-49af-807e-4df8bd8a6b4e",
   "metadata": {},
   "outputs": [
    {
     "data": {
      "text/plain": [
       "23514624000"
      ]
     },
     "execution_count": 97,
     "metadata": {},
     "output_type": "execute_result"
    }
   ],
   "source": [
    "max([reduce(lambda x,y:x*y,[int(i) for i in stvorica]) for stvorica in beznuly])"
   ]
  },
  {
   "cell_type": "code",
   "execution_count": 98,
   "id": "c6dd2dab-bd39-485d-944d-cd01134827a5",
   "metadata": {},
   "outputs": [],
   "source": [
    "with open('vystup.txt','w') as s:\n",
    "    s.write('24.10.2024 \\n')"
   ]
  },
  {
   "cell_type": "code",
   "execution_count": 99,
   "id": "2ce44021-5aac-4ee9-b75d-0b4c4706ad00",
   "metadata": {},
   "outputs": [
    {
     "data": {
      "text/plain": [
       "4"
      ]
     },
     "execution_count": 99,
     "metadata": {},
     "output_type": "execute_result"
    }
   ],
   "source": [
    "s = open('vystup.txt','w')\n",
    "s.write('df \\n')"
   ]
  },
  {
   "cell_type": "code",
   "execution_count": 107,
   "id": "00d0094d-819e-4908-8d30-69770f35bda8",
   "metadata": {},
   "outputs": [],
   "source": [
    "s.close()"
   ]
  },
  {
   "cell_type": "code",
   "execution_count": 104,
   "id": "0460e0a5-b69c-4600-872f-66eef76015f5",
   "metadata": {},
   "outputs": [],
   "source": [
    "s=open('vystup.txt', 'a')"
   ]
  },
  {
   "cell_type": "code",
   "execution_count": 138,
   "id": "d97281b1-d6f4-482e-9f48-0994ec26cea9",
   "metadata": {},
   "outputs": [
    {
     "ename": "ValueError",
     "evalue": "I/O operation on closed file.",
     "output_type": "error",
     "traceback": [
      "\u001b[0;31m---------------------------------------------------------------------------\u001b[0m",
      "\u001b[0;31mValueError\u001b[0m                                Traceback (most recent call last)",
      "Cell \u001b[0;32mIn[138], line 1\u001b[0m\n\u001b[0;32m----> 1\u001b[0m \u001b[43ms\u001b[49m\u001b[38;5;241;43m.\u001b[39;49m\u001b[43mwrite\u001b[49m\u001b[43m(\u001b[49m\u001b[38;5;124;43m'\u001b[39;49m\u001b[38;5;124;43mgdgdg \u001b[39;49m\u001b[38;5;130;43;01m\\n\u001b[39;49;00m\u001b[38;5;124;43m'\u001b[39;49m\u001b[43m)\u001b[49m\n\u001b[1;32m      2\u001b[0m s\u001b[38;5;241m.\u001b[39mflush()\n\u001b[1;32m      3\u001b[0m s\u001b[38;5;241m.\u001b[39mclose()\n",
      "\u001b[0;31mValueError\u001b[0m: I/O operation on closed file."
     ]
    }
   ],
   "source": [
    "s.write('gdgdg \\n')\n",
    "s.flush()\n",
    "s.close()"
   ]
  },
  {
   "cell_type": "code",
   "execution_count": 144,
   "id": "eb28ab44-3d38-451e-b4cb-c76a0089c0fe",
   "metadata": {},
   "outputs": [],
   "source": [
    "with open('E13.txt') as subor:\n",
    "    cislo = subor.readlines()"
   ]
  },
  {
   "cell_type": "code",
   "execution_count": 145,
   "id": "fd3ae260-0d20-4700-af70-da434cc1b2dc",
   "metadata": {},
   "outputs": [
    {
     "data": {
      "text/plain": [
       "'5537376230'"
      ]
     },
     "execution_count": 145,
     "metadata": {},
     "output_type": "execute_result"
    }
   ],
   "source": [
    "str(sum([int(i) for i in cislo]))[:10]"
   ]
  },
  {
   "cell_type": "code",
   "execution_count": null,
   "id": "0205b066-260c-4ba9-9938-b9f6b237bab4",
   "metadata": {},
   "outputs": [],
   "source": []
  }
 ],
 "metadata": {
  "kernelspec": {
   "display_name": "Python 3 (ipykernel)",
   "language": "python",
   "name": "python3"
  },
  "language_info": {
   "codemirror_mode": {
    "name": "ipython",
    "version": 3
   },
   "file_extension": ".py",
   "mimetype": "text/x-python",
   "name": "python",
   "nbconvert_exporter": "python",
   "pygments_lexer": "ipython3",
   "version": "3.11.6"
  }
 },
 "nbformat": 4,
 "nbformat_minor": 5
}
