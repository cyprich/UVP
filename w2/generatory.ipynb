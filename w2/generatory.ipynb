{
 "cells": [
  {
   "cell_type": "markdown",
   "id": "626cea55-1e39-49cd-bcee-af515bf5f18d",
   "metadata": {},
   "source": [
    "# Generatory"
   ]
  },
  {
   "cell_type": "code",
   "execution_count": 12,
   "id": "aef3f10e-530a-4588-ad5c-234bfc4fffdd",
   "metadata": {},
   "outputs": [
    {
     "name": "stdout",
     "output_type": "stream",
     "text": [
      "[1, 2, 3, 4, 5, 6, 7, 8, 9, 10]\n"
     ]
    }
   ],
   "source": [
    "# zoznam cisel od 1 po 10\n",
    "z = [i for i in range(1, 11)]\n",
    "print(z)"
   ]
  },
  {
   "cell_type": "code",
   "execution_count": 13,
   "id": "7352bf99-f003-4c12-bd69-53fc86fa0ab1",
   "metadata": {},
   "outputs": [
    {
     "name": "stdout",
     "output_type": "stream",
     "text": [
      "[0, 15, 30, 45, 60, 75, 90]\n"
     ]
    }
   ],
   "source": [
    "# zoznam cisel <100 ktore su delitelne 3 aj 5 \n",
    "z = [i for i in range(100) if i%3 == 0 and i%5 == 0]\n",
    "print(z)"
   ]
  },
  {
   "cell_type": "code",
   "execution_count": 14,
   "id": "b02eea61-1c5d-4205-9a7c-6620138ac754",
   "metadata": {},
   "outputs": [
    {
     "name": "stdout",
     "output_type": "stream",
     "text": [
      "[1, 4, 9, 16, 25, 36, 49, 64, 81, 100, 121, 144, 169, 196, 225, 256, 289, 324, 361, 400]\n"
     ]
    }
   ],
   "source": [
    "# zoznam druhych mocnic cisel z <1, 20>\n",
    "z = [i**2 for i in range(1, 21)]\n",
    "print(z)"
   ]
  },
  {
   "cell_type": "code",
   "execution_count": 15,
   "id": "20a0fbb1-f986-4d02-8e42-99799245aa51",
   "metadata": {},
   "outputs": [
    {
     "data": {
      "text/plain": [
       "[(1, 2), (1, 3), (2, 3)]"
      ]
     },
     "execution_count": 15,
     "metadata": {},
     "output_type": "execute_result"
    }
   ],
   "source": [
    "# zoznam vsetkych hran kompletneho grafu s mnozinou vrcholov v\n",
    "# basically ze usecky medzi 2 bodmi\n",
    "v = [1, 2, 3]\n",
    "[(i, j) for i in v for j in v if i != j and i < j]"
   ]
  },
  {
   "cell_type": "markdown",
   "id": "3e9ff959-1200-4d66-83a3-552badb3bc71",
   "metadata": {},
   "source": [
    "<p>If we list all the natural numbers below $10$ that are multiples of $3$ or $5$, we get $3, 5, 6$ and $9$. The sum of these multiples is $23$.</p>\n",
    "<p>Find the sum of all the multiples of $3$ or $5$ below $1000$.</p>"
   ]
  },
  {
   "cell_type": "code",
   "execution_count": 18,
   "id": "d39292c9-706e-4625-b75c-fda6e190d506",
   "metadata": {},
   "outputs": [
    {
     "name": "stdout",
     "output_type": "stream",
     "text": [
      "[0, 3, 5, 6, 9]\n",
      "23\n"
     ]
    }
   ],
   "source": [
    "z = [i for i in range(10) if i % 3 == 0 or i % 5 == 0]\n",
    "print(z)\n",
    "print(sum(z))"
   ]
  },
  {
   "cell_type": "code",
   "execution_count": 20,
   "id": "10ff431d-5331-41c2-aa06-11949b4f7984",
   "metadata": {},
   "outputs": [
    {
     "name": "stdout",
     "output_type": "stream",
     "text": [
      "233168\n"
     ]
    }
   ],
   "source": [
    "z = [i for i in range(1000) if i % 3 == 0 or i % 5 == 0]\n",
    "# print(z)\n",
    "print(sum(z))"
   ]
  },
  {
   "cell_type": "code",
   "execution_count": null,
   "id": "f8ed194a-28e8-4112-9efb-348f580431e1",
   "metadata": {},
   "outputs": [],
   "source": []
  }
 ],
 "metadata": {
  "kernelspec": {
   "display_name": "Python 3 (ipykernel)",
   "language": "python",
   "name": "python3"
  },
  "language_info": {
   "codemirror_mode": {
    "name": "ipython",
    "version": 3
   },
   "file_extension": ".py",
   "mimetype": "text/x-python",
   "name": "python",
   "nbconvert_exporter": "python",
   "pygments_lexer": "ipython3",
   "version": "3.11.6"
  }
 },
 "nbformat": 4,
 "nbformat_minor": 5
}
